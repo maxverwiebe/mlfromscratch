{
 "cells": [
  {
   "cell_type": "code",
   "execution_count": 1,
   "id": "bcebe119",
   "metadata": {},
   "outputs": [],
   "source": [
    "import pandas as pd\n",
    "import sys\n",
    "import os\n",
    "import numpy as np\n",
    "\n",
    "# add the project root to the Python path to allow for absolute imports\n",
    "project_root = os.path.abspath(os.path.join(os.getcwd(), '..'))\n",
    "if project_root not in sys.path:\n",
    "\tsys.path.append(project_root)"
   ]
  },
  {
   "cell_type": "code",
   "execution_count": null,
   "id": "b11eae02",
   "metadata": {},
   "outputs": [],
   "source": []
  },
  {
   "cell_type": "code",
   "execution_count": 2,
   "id": "278e914b",
   "metadata": {},
   "outputs": [],
   "source": [
    "data = pd.read_csv(r\"/Users/maximilianverwiebe/codingprojects/ml-from-scratch/datasets/diabetes_dataset.csv\")\n"
   ]
  },
  {
   "cell_type": "code",
   "execution_count": 3,
   "id": "245d450e",
   "metadata": {},
   "outputs": [],
   "source": [
    "from mlfromsc.algorithms.random_forest import RandomForestClassifier\n",
    "from mlfromsc import TrainTestSplit"
   ]
  },
  {
   "cell_type": "code",
   "execution_count": 4,
   "id": "8d164b78",
   "metadata": {},
   "outputs": [],
   "source": [
    "y = data.copy()[\"Outcome\"]\n",
    "X = data.drop(\"Outcome\", axis=1)\n",
    "\n",
    "y = data[\"Outcome\"].values\n",
    "X = data.drop(\"Outcome\", axis=1).values\n",
    "\n",
    "train_test_split = TrainTestSplit()\n",
    "X_train, X_test, y_train, y_test = train_test_split.fit(X, y, test_ratio=0.2)"
   ]
  },
  {
   "cell_type": "code",
   "execution_count": 5,
   "id": "7648e3e7",
   "metadata": {},
   "outputs": [],
   "source": [
    "rf = RandomForestClassifier(n_trees=50, max_depth=10)\n",
    "rf.fit(X_train, y_train)"
   ]
  },
  {
   "cell_type": "code",
   "execution_count": 6,
   "id": "31334ff3",
   "metadata": {},
   "outputs": [
    {
     "name": "stdout",
     "output_type": "stream",
     "text": [
      "[[1 0 0 ... 1 0 0]\n",
      " [1 0 0 ... 1 1 1]\n",
      " [0 0 0 ... 1 0 0]\n",
      " ...\n",
      " [0 1 1 ... 1 0 1]\n",
      " [1 0 0 ... 1 0 1]\n",
      " [0 0 0 ... 1 0 0]]\n",
      "Accuracy: 0.68\n"
     ]
    }
   ],
   "source": [
    "y_pred = rf.predict(X_test)\n",
    "\n",
    "accuracy = np.mean(y_pred == y_test)\n",
    "print(f\"Accuracy: {accuracy:.2f}\")"
   ]
  }
 ],
 "metadata": {
  "kernelspec": {
   "display_name": ".venv",
   "language": "python",
   "name": "python3"
  },
  "language_info": {
   "codemirror_mode": {
    "name": "ipython",
    "version": 3
   },
   "file_extension": ".py",
   "mimetype": "text/x-python",
   "name": "python",
   "nbconvert_exporter": "python",
   "pygments_lexer": "ipython3",
   "version": "3.11.0"
  }
 },
 "nbformat": 4,
 "nbformat_minor": 5
}
