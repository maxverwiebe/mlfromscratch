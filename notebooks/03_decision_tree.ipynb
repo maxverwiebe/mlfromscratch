{
 "cells": [
  {
   "cell_type": "code",
   "execution_count": 12,
   "id": "add4c3f4",
   "metadata": {},
   "outputs": [],
   "source": [
    "import pandas as pd\n",
    "import sys\n",
    "import os\n",
    "import numpy as np\n",
    "\n",
    "# add the project root to the Python path to allow for absolute imports\n",
    "project_root = os.path.abspath(os.path.join(os.getcwd(), '..'))\n",
    "if project_root not in sys.path:\n",
    "\tsys.path.append(project_root)"
   ]
  },
  {
   "cell_type": "code",
   "execution_count": 13,
   "id": "874a3fe4",
   "metadata": {},
   "outputs": [],
   "source": [
    "data = pd.read_csv(r\"/Users/maximilianverwiebe/codingprojects/ml-from-scratch/datasets/diabetes_dataset.csv\")\n"
   ]
  },
  {
   "cell_type": "code",
   "execution_count": 14,
   "id": "b70dec95",
   "metadata": {},
   "outputs": [],
   "source": [
    "from mlfromsc.algorithms.decision_tree import DecisionTreeClassifier\n",
    "from mlfromsc import TrainTestSplit"
   ]
  },
  {
   "cell_type": "code",
   "execution_count": 15,
   "id": "9fe73381",
   "metadata": {},
   "outputs": [],
   "source": [
    "y = data.copy()[\"Outcome\"]\n",
    "X = data.drop(\"Outcome\", axis=1)\n",
    "\n",
    "y = data[\"Outcome\"].values\n",
    "X = data.drop(\"Outcome\", axis=1).values\n",
    "\n",
    "train_test_split = TrainTestSplit()\n",
    "X_train, X_test, y_train, y_test = train_test_split.fit(X, y, test_ratio=0.2)"
   ]
  },
  {
   "cell_type": "code",
   "execution_count": 16,
   "id": "1f15a15a",
   "metadata": {},
   "outputs": [],
   "source": [
    "decision_tree = DecisionTreeClassifier(max_depth=3)\n",
    "decision_tree.fit(X_train, y_train)"
   ]
  },
  {
   "cell_type": "code",
   "execution_count": 17,
   "id": "25307b3b",
   "metadata": {},
   "outputs": [
    {
     "name": "stdout",
     "output_type": "stream",
     "text": [
      "Accuracy: 0.73\n"
     ]
    }
   ],
   "source": [
    "y_pred = decision_tree.predict(X_test)\n",
    "\n",
    "accuracy = np.mean(y_pred == y_test)\n",
    "print(f\"Accuracy: {accuracy:.2f}\")"
   ]
  },
  {
   "cell_type": "code",
   "execution_count": 18,
   "id": "63706de9",
   "metadata": {},
   "outputs": [
    {
     "name": "stdout",
     "output_type": "stream",
     "text": [
      "[X1 <= 123.000]\n",
      "├─ True:\n",
      "  [X5 <= 26.300]\n",
      "  ├─ True:\n",
      "    [X1 <= 106.000]\n",
      "    ├─ True:\n",
      "      Leaf: value = 0.000\n",
      "    └─ False:\n",
      "      Leaf: value = 0.000\n",
      "  └─ False:\n",
      "    [X0 <= 6.000]\n",
      "    ├─ True:\n",
      "      Leaf: value = 0.000\n",
      "    └─ False:\n",
      "      Leaf: value = 0.000\n",
      "└─ False:\n",
      "  [X1 <= 154.000]\n",
      "  ├─ True:\n",
      "    [X5 <= 30.000]\n",
      "    ├─ True:\n",
      "      Leaf: value = 0.000\n",
      "    └─ False:\n",
      "      Leaf: value = 1.000\n",
      "  └─ False:\n",
      "    [X5 <= 29.800]\n",
      "    ├─ True:\n",
      "      Leaf: value = 1.000\n",
      "    └─ False:\n",
      "      Leaf: value = 1.000\n"
     ]
    }
   ],
   "source": [
    "decision_tree.print_tree()\n"
   ]
  }
 ],
 "metadata": {
  "kernelspec": {
   "display_name": ".venv",
   "language": "python",
   "name": "python3"
  },
  "language_info": {
   "codemirror_mode": {
    "name": "ipython",
    "version": 3
   },
   "file_extension": ".py",
   "mimetype": "text/x-python",
   "name": "python",
   "nbconvert_exporter": "python",
   "pygments_lexer": "ipython3",
   "version": "3.11.0"
  }
 },
 "nbformat": 4,
 "nbformat_minor": 5
}
